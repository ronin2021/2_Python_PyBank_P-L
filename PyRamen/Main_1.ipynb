{
 "cells": [
  {
   "cell_type": "code",
   "execution_count": 1,
   "id": "85ef7115-d9b7-4c64-b1df-4cdbaeefe38f",
   "metadata": {},
   "outputs": [
    {
     "data": {
      "text/plain": [
       "'PyRamen Homework Starter.'"
      ]
     },
     "execution_count": 1,
     "metadata": {},
     "output_type": "execute_result"
    }
   ],
   "source": [
    "# -*- coding: UTF-8 -*-\n",
    "\"\"\"PyRamen Homework Starter.\"\"\""
   ]
  },
  {
   "cell_type": "code",
   "execution_count": 2,
   "id": "5c471d98-3605-43fc-ad3b-01f8f14d041b",
   "metadata": {},
   "outputs": [],
   "source": [
    "# import libraries\n",
    "import csv\n",
    "from pathlib import Path"
   ]
  },
  {
   "cell_type": "code",
   "execution_count": 3,
   "id": "94bfdd2e-4d37-4054-820e-2372177b2cd1",
   "metadata": {},
   "outputs": [],
   "source": [
    "# set file paths for menu_data.csv and sales_data.csv\n",
    "menu_filepath = Path('menu_data.csv')\n",
    "sales_filepath = Path('sales_data.csv')"
   ]
  },
  {
   "cell_type": "code",
   "execution_count": 4,
   "id": "49c297a5-2d2f-4244-ba65-40b93ff26d5b",
   "metadata": {},
   "outputs": [],
   "source": [
    "# Initialize list objects to hold our menu and sales data\n",
    "menu = []\n",
    "sales = []"
   ]
  },
  {
   "cell_type": "code",
   "execution_count": 5,
   "id": "b0fc8205-5a81-4089-a579-f9f1d90c5f93",
   "metadata": {},
   "outputs": [],
   "source": [
    "# Read in the menu data into the menu list\n",
    "from csv import reader\n",
    "# read csv file as a list of lists\n",
    "with open('menu_data.csv', 'r') as read_obj:\n",
    "    # pass the file object to reader() to get the reader object\n",
    "    csv_reader = reader(read_obj)\n",
    "    next(csv_reader, None)  # skip the headers\n",
    "    # pass reader object to menu() to get a list of lists\n",
    "    menu = list(csv_reader)"
   ]
  },
  {
   "cell_type": "code",
   "execution_count": 23,
   "id": "a63d18b7-3e21-4fa9-ad31-1e0c70da2cd8",
   "metadata": {},
   "outputs": [],
   "source": [
    "# Read in the menu data into the menu list\n",
    "from csv import reader\n",
    "# read csv file as a list of lists\n",
    "with open('sales_data.csv', 'r') as read_obj:\n",
    "    # pass the file object to reader() to get the reader object\n",
    "    csv_reader = reader(read_obj)\n",
    "    next(csv_reader, None)  # skip the headers\n",
    "    # append every row of sales to sales() to get a list of lists\n",
    "    sales.append(list(csv_reader))\n",
    "    "
   ]
  },
  {
   "cell_type": "code",
   "execution_count": 7,
   "id": "c41f7bef-1d64-4a6b-9486-721acfe075f1",
   "metadata": {},
   "outputs": [],
   "source": [
    "# @TODO: Initialize dict object to hold our key-value pairs of items and metrics\n",
    "report = {}"
   ]
  },
  {
   "cell_type": "code",
   "execution_count": 8,
   "id": "e3e5827c-a233-4a04-aca9-9ad1276426e3",
   "metadata": {},
   "outputs": [],
   "source": [
    "# Initialize a row counter variable\n",
    "row_count = 0"
   ]
  },
  {
   "cell_type": "code",
   "execution_count": 9,
   "id": "3370170c-c3ad-45c2-b51f-a9e502c9bf04",
   "metadata": {},
   "outputs": [],
   "source": [
    "# @TODO: Loop over every row in the sales list object"
   ]
  },
  {
   "cell_type": "code",
   "execution_count": 10,
   "id": "c9c58c13-6f7f-4854-ae45-668fbafc2ad8",
   "metadata": {},
   "outputs": [],
   "source": [
    "# Line_Item_ID,Date,Credit_Card_Number,Quantity,Menu_Item\n",
    "# @TODO: Initialize sales data variables\n",
    "\n"
   ]
  },
  {
   "cell_type": "code",
   "execution_count": 11,
   "id": "d5680c1e-ad35-48f7-877e-3f7a5c69a508",
   "metadata": {},
   "outputs": [],
   "source": [
    "# @TODO:\n",
    "    # If the item value not in the report, add it as a new entry with initialized metrics\n",
    "    # Naming convention allows the keys to be ordered in logical fashion, count, revenue, cost, profit\n"
   ]
  },
  {
   "cell_type": "code",
   "execution_count": 12,
   "id": "e5c01759-d767-4ba9-abe6-2ec83f86abc3",
   "metadata": {},
   "outputs": [],
   "source": [
    "# @TODO: For every row in our sales data, loop over the menu records to determine a match"
   ]
  },
  {
   "cell_type": "code",
   "execution_count": 13,
   "id": "bc786695-dc75-4b3b-b8dc-23a1c0d692f7",
   "metadata": {},
   "outputs": [],
   "source": [
    " # Item,Category,Description,Price,Cost\n",
    "        # @TODO: Initialize menu data variables\n",
    "\n"
   ]
  },
  {
   "cell_type": "code",
   "execution_count": 14,
   "id": "4fcccfa6-347e-4b0d-a786-7cdd877d272d",
   "metadata": {},
   "outputs": [],
   "source": [
    "# @TODO: Calculate profit of each item in the menu data"
   ]
  },
  {
   "cell_type": "code",
   "execution_count": 15,
   "id": "a6bf29bd-8fbf-4d27-b1e2-114382ea9b76",
   "metadata": {},
   "outputs": [],
   "source": [
    "   # @TODO: If the item value in our sales data is equal to the any of the items in the menu, then begin tracking metrics for that item\n",
    "\n"
   ]
  },
  {
   "cell_type": "code",
   "execution_count": 16,
   "id": "8fac3f6e-4f0f-48ab-8283-f5b0885d2ed0",
   "metadata": {},
   "outputs": [],
   "source": [
    " # @TODO: Print out matching menu data"
   ]
  },
  {
   "cell_type": "code",
   "execution_count": 17,
   "id": "11f12ca8-c497-47e8-aad8-45ee1b5217dd",
   "metadata": {},
   "outputs": [],
   "source": [
    "  # @TODO: Cumulatively add up the metrics for each item key"
   ]
  },
  {
   "cell_type": "code",
   "execution_count": 18,
   "id": "dfe61f1c-598f-41d0-8ed7-35ffa34e7445",
   "metadata": {},
   "outputs": [],
   "source": [
    "# @TODO: Else, the sales item does not equal any fo the item in the menu data, therefore no match"
   ]
  },
  {
   "cell_type": "code",
   "execution_count": 19,
   "id": "0e2c9052-83ec-483a-8cd7-3fa200486cf9",
   "metadata": {},
   "outputs": [],
   "source": [
    " # @TODO: Increment the row counter by 1\n",
    "\n"
   ]
  },
  {
   "cell_type": "code",
   "execution_count": 20,
   "id": "07eeb405-8755-4d0e-9cf4-f0ccebf4c7e5",
   "metadata": {},
   "outputs": [],
   "source": [
    "# @TODO: Print total number of records in sales data\n",
    "\n"
   ]
  },
  {
   "cell_type": "code",
   "execution_count": 21,
   "id": "2a653dec-beb1-4041-abfe-3117f1a45d5d",
   "metadata": {},
   "outputs": [],
   "source": [
    "# @TODO: Write out report to a text file (won't appear on the command line output)"
   ]
  },
  {
   "cell_type": "code",
   "execution_count": null,
   "id": "fe5522bc-5022-4f3b-a84a-e4f02a28d963",
   "metadata": {},
   "outputs": [],
   "source": []
  }
 ],
 "metadata": {
  "kernelspec": {
   "display_name": "Python 3",
   "language": "python",
   "name": "python3"
  },
  "language_info": {
   "codemirror_mode": {
    "name": "ipython",
    "version": 3
   },
   "file_extension": ".py",
   "mimetype": "text/x-python",
   "name": "python",
   "nbconvert_exporter": "python",
   "pygments_lexer": "ipython3",
   "version": "3.8.5"
  }
 },
 "nbformat": 4,
 "nbformat_minor": 5
}
